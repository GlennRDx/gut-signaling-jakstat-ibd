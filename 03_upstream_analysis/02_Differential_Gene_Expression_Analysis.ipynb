{
 "cells": [
  {
   "cell_type": "markdown",
   "id": "221bb92a",
   "metadata": {},
   "source": [
    "# Import Libraries"
   ]
  },
  {
   "cell_type": "code",
   "execution_count": 68,
   "id": "90c16955",
   "metadata": {},
   "outputs": [],
   "source": [
    "import scanpy as sc\n",
    "import pandas as pd\n",
    "import random\n",
    "import numpy as np"
   ]
  },
  {
   "cell_type": "markdown",
   "id": "f1a32efc",
   "metadata": {},
   "source": [
    "# Import Data"
   ]
  },
  {
   "cell_type": "code",
   "execution_count": 69,
   "id": "bba0aec6",
   "metadata": {},
   "outputs": [
    {
     "name": "stdout",
     "output_type": "stream",
     "text": [
      "AnnData object with n_obs × n_vars = 22502 × 26657\n",
      "    obs: 'Age', 'Diagnosis', 'Sample name', 'Type', 'batch', 'doublet_scores', 'predicted_doublets', 'n_genes', 'percent_mito', 'n_counts', 'annotation_V2', 'inferred state'\n",
      "    var: 'gene_ids-4918STDY7273964', 'gene_ids-4918STDY7273965', 'gene_ids-4918STDY7274839', 'gene_ids-4918STDY7317586', 'gene_ids-4918STDY7321514', 'gene_ids-4918STDY7333456', 'gene_ids-4918STDY7389431', 'gene_ids-4918STDY7421298', 'gene_ids-4918STDY7426905', 'gene_ids-4918STDY7426908', 'gene_ids-4918STDY7447825', 'gene_ids-4918STDY7693758', 'gene_ids-4918STDY7693761', 'gene_ids-4918STDY7702679', 'gene_ids-4918STDY7702680', 'gene_ids-4918STDY7717784', 'gene_ids-4918STDY7717788', 'gene_ids-4918STDY7718973', 'gene_ids-4918STDY7718976', 'gene_ids-4918STDY7844898', 'gene_ids-4918STDY7844899', 'gene_ids-4918STDY7901095', 'gene_ids-4918STDY7901096', 'gene_ids-4918STDY7923744', 'gene_ids-4918STDY7923745', 'gene_ids-4918STDY7933270', 'gene_ids-4918STDY7934977', 'gene_ids-4918STDY7962470', 'gene_ids-4918STDY7982702', 'gene_ids-4918STDY7982703', 'n_cells'\n",
      "    uns: 'annotation_V2_colors'\n",
      "    obsm: 'X_pca', 'X_umap'\n"
     ]
    }
   ],
   "source": [
    "# Import Raw Data\n",
    "adata = sc.read_h5ad('/home/glennrossdolan/Documents/gut-signaling-jakstat-ibd/06_data_repository/02_Pediatric_CD/norm_pediatric_chron_ileum.h5ad')\n",
    "print(adata)"
   ]
  },
  {
   "cell_type": "code",
   "execution_count": 53,
   "id": "aabc032f",
   "metadata": {},
   "outputs": [],
   "source": [
    "adata.obs.rename(columns={'inferred state': 'inferred_state'}, inplace=True)"
   ]
  },
  {
   "cell_type": "code",
   "execution_count": 54,
   "id": "d32e6b47",
   "metadata": {},
   "outputs": [
    {
     "data": {
      "text/plain": [
       "['CD', 'Control', 'non_inflamed']\n",
       "Categories (3, object): ['CD', 'Control', 'non_inflamed']"
      ]
     },
     "execution_count": 54,
     "metadata": {},
     "output_type": "execute_result"
    }
   ],
   "source": [
    "adata.obs['inferred_state'].unique()"
   ]
  },
  {
   "cell_type": "code",
   "execution_count": 55,
   "id": "e5094540",
   "metadata": {},
   "outputs": [
    {
     "data": {
      "text/plain": [
       "['CD4 T cell', 'TA', 'IgA plasma cell', 'Goblet cell', 'IgG plasma cell', ..., 'CD8 T cell', 'Macrophage', 'Glial cell', 'Cycling myeloid cells', 'Tuft']\n",
       "Length: 41\n",
       "Categories (41, object): ['crypt', 'TA', 'early enterocyte', 'enterocyte', ..., 'cDC1', 'cDC2', 'activated DC', 'pDC']"
      ]
     },
     "execution_count": 55,
     "metadata": {},
     "output_type": "execute_result"
    }
   ],
   "source": [
    "adata.obs['annotation_V2'].unique()"
   ]
  },
  {
   "cell_type": "markdown",
   "id": "93037f46",
   "metadata": {},
   "source": [
    "# Subset to one cell type (Enterocytes)"
   ]
  },
  {
   "cell_type": "code",
   "execution_count": 56,
   "id": "7467df09",
   "metadata": {},
   "outputs": [
    {
     "data": {
      "text/plain": [
       "View of AnnData object with n_obs × n_vars = 1001 × 26657\n",
       "    obs: 'Age', 'Diagnosis', 'Sample name', 'Type', 'batch', 'doublet_scores', 'predicted_doublets', 'n_genes', 'percent_mito', 'n_counts', 'annotation_V2', 'inferred_state'\n",
       "    var: 'gene_ids-4918STDY7273964', 'gene_ids-4918STDY7273965', 'gene_ids-4918STDY7274839', 'gene_ids-4918STDY7317586', 'gene_ids-4918STDY7321514', 'gene_ids-4918STDY7333456', 'gene_ids-4918STDY7389431', 'gene_ids-4918STDY7421298', 'gene_ids-4918STDY7426905', 'gene_ids-4918STDY7426908', 'gene_ids-4918STDY7447825', 'gene_ids-4918STDY7693758', 'gene_ids-4918STDY7693761', 'gene_ids-4918STDY7702679', 'gene_ids-4918STDY7702680', 'gene_ids-4918STDY7717784', 'gene_ids-4918STDY7717788', 'gene_ids-4918STDY7718973', 'gene_ids-4918STDY7718976', 'gene_ids-4918STDY7844898', 'gene_ids-4918STDY7844899', 'gene_ids-4918STDY7901095', 'gene_ids-4918STDY7901096', 'gene_ids-4918STDY7923744', 'gene_ids-4918STDY7923745', 'gene_ids-4918STDY7933270', 'gene_ids-4918STDY7934977', 'gene_ids-4918STDY7962470', 'gene_ids-4918STDY7982702', 'gene_ids-4918STDY7982703', 'n_cells'\n",
       "    uns: 'annotation_V2_colors'\n",
       "    obsm: 'X_pca', 'X_umap'\n",
       "    layers: 'counts'"
      ]
     },
     "execution_count": 56,
     "metadata": {},
     "output_type": "execute_result"
    }
   ],
   "source": [
    "cell_subset = adata[adata.obs['annotation_V2'] == 'FCER2 B cell']\n",
    "cell_subset"
   ]
  },
  {
   "cell_type": "code",
   "execution_count": 72,
   "id": "3082d623",
   "metadata": {},
   "outputs": [
    {
     "data": {
      "text/plain": [
       "['T017', 'T019', 'T036', 'T057', 'T160', ..., 'T176', 'T182', 'T189', 'T197', 'T202']\n",
       "Length: 11\n",
       "Categories (11, object): ['T017', 'T019', 'T036', 'T057', ..., 'T182', 'T189', 'T197', 'T202']"
      ]
     },
     "execution_count": 72,
     "metadata": {},
     "output_type": "execute_result"
    }
   ],
   "source": [
    "cell_subset.obs['Sample name'].unique()"
   ]
  },
  {
   "cell_type": "code",
   "execution_count": null,
   "id": "d4657a4b",
   "metadata": {},
   "outputs": [
    {
     "name": "stderr",
     "output_type": "stream",
     "text": [
      "/home/glennrossdolan/miniconda3/envs/differential-gene-expression/lib/python3.11/site-packages/anndata/_core/anndata.py:602: FutureWarning: You are attempting to set `X` to a matrix on a view which has non-unique indices. The resulting `adata.X` will likely not equal the value to which you set it. To avoid this potential issue, please make a copy of the data first. In the future, this operation will throw an error.\n",
      "  warnings.warn(msg, FutureWarning, stacklevel=1)\n",
      "/tmp/ipykernel_8439/1237660453.py:6: ImplicitModificationWarning: Modifying `X` on a view results in data being overridden\n",
      "  samp_cell_subset.X = samp_cell_subset.layers['counts'] # Selecting the raw data\n",
      "/home/glennrossdolan/miniconda3/envs/differential-gene-expression/lib/python3.11/site-packages/anndata/_core/storage.py:39: ImplicitModificationWarning: X should not be a np.matrix, use np.ndarray instead.\n",
      "  warnings.warn(msg, ImplicitModificationWarning)\n",
      "/home/glennrossdolan/miniconda3/envs/differential-gene-expression/lib/python3.11/site-packages/anndata/_core/anndata.py:602: FutureWarning: You are attempting to set `X` to a matrix on a view which has non-unique indices. The resulting `adata.X` will likely not equal the value to which you set it. To avoid this potential issue, please make a copy of the data first. In the future, this operation will throw an error.\n",
      "  warnings.warn(msg, FutureWarning, stacklevel=1)\n",
      "/tmp/ipykernel_8439/1237660453.py:6: ImplicitModificationWarning: Modifying `X` on a view results in data being overridden\n",
      "  samp_cell_subset.X = samp_cell_subset.layers['counts'] # Selecting the raw data\n",
      "/home/glennrossdolan/miniconda3/envs/differential-gene-expression/lib/python3.11/site-packages/anndata/_core/storage.py:39: ImplicitModificationWarning: X should not be a np.matrix, use np.ndarray instead.\n",
      "  warnings.warn(msg, ImplicitModificationWarning)\n",
      "/home/glennrossdolan/miniconda3/envs/differential-gene-expression/lib/python3.11/site-packages/anndata/_core/anndata.py:602: FutureWarning: You are attempting to set `X` to a matrix on a view which has non-unique indices. The resulting `adata.X` will likely not equal the value to which you set it. To avoid this potential issue, please make a copy of the data first. In the future, this operation will throw an error.\n",
      "  warnings.warn(msg, FutureWarning, stacklevel=1)\n",
      "/tmp/ipykernel_8439/1237660453.py:6: ImplicitModificationWarning: Modifying `X` on a view results in data being overridden\n",
      "  samp_cell_subset.X = samp_cell_subset.layers['counts'] # Selecting the raw data\n",
      "/home/glennrossdolan/miniconda3/envs/differential-gene-expression/lib/python3.11/site-packages/anndata/_core/storage.py:39: ImplicitModificationWarning: X should not be a np.matrix, use np.ndarray instead.\n",
      "  warnings.warn(msg, ImplicitModificationWarning)\n",
      "/home/glennrossdolan/miniconda3/envs/differential-gene-expression/lib/python3.11/site-packages/anndata/_core/anndata.py:602: FutureWarning: You are attempting to set `X` to a matrix on a view which has non-unique indices. The resulting `adata.X` will likely not equal the value to which you set it. To avoid this potential issue, please make a copy of the data first. In the future, this operation will throw an error.\n",
      "  warnings.warn(msg, FutureWarning, stacklevel=1)\n",
      "/tmp/ipykernel_8439/1237660453.py:6: ImplicitModificationWarning: Modifying `X` on a view results in data being overridden\n",
      "  samp_cell_subset.X = samp_cell_subset.layers['counts'] # Selecting the raw data\n",
      "/home/glennrossdolan/miniconda3/envs/differential-gene-expression/lib/python3.11/site-packages/anndata/_core/storage.py:39: ImplicitModificationWarning: X should not be a np.matrix, use np.ndarray instead.\n",
      "  warnings.warn(msg, ImplicitModificationWarning)\n",
      "/home/glennrossdolan/miniconda3/envs/differential-gene-expression/lib/python3.11/site-packages/anndata/_core/anndata.py:602: FutureWarning: You are attempting to set `X` to a matrix on a view which has non-unique indices. The resulting `adata.X` will likely not equal the value to which you set it. To avoid this potential issue, please make a copy of the data first. In the future, this operation will throw an error.\n",
      "  warnings.warn(msg, FutureWarning, stacklevel=1)\n",
      "/tmp/ipykernel_8439/1237660453.py:6: ImplicitModificationWarning: Modifying `X` on a view results in data being overridden\n",
      "  samp_cell_subset.X = samp_cell_subset.layers['counts'] # Selecting the raw data\n",
      "/home/glennrossdolan/miniconda3/envs/differential-gene-expression/lib/python3.11/site-packages/anndata/_core/storage.py:39: ImplicitModificationWarning: X should not be a np.matrix, use np.ndarray instead.\n",
      "  warnings.warn(msg, ImplicitModificationWarning)\n",
      "/home/glennrossdolan/miniconda3/envs/differential-gene-expression/lib/python3.11/site-packages/anndata/_core/anndata.py:602: FutureWarning: You are attempting to set `X` to a matrix on a view which has non-unique indices. The resulting `adata.X` will likely not equal the value to which you set it. To avoid this potential issue, please make a copy of the data first. In the future, this operation will throw an error.\n",
      "  warnings.warn(msg, FutureWarning, stacklevel=1)\n",
      "/tmp/ipykernel_8439/1237660453.py:6: ImplicitModificationWarning: Modifying `X` on a view results in data being overridden\n",
      "  samp_cell_subset.X = samp_cell_subset.layers['counts'] # Selecting the raw data\n",
      "/home/glennrossdolan/miniconda3/envs/differential-gene-expression/lib/python3.11/site-packages/anndata/_core/storage.py:39: ImplicitModificationWarning: X should not be a np.matrix, use np.ndarray instead.\n",
      "  warnings.warn(msg, ImplicitModificationWarning)\n",
      "/home/glennrossdolan/miniconda3/envs/differential-gene-expression/lib/python3.11/site-packages/anndata/_core/anndata.py:602: FutureWarning: You are attempting to set `X` to a matrix on a view which has non-unique indices. The resulting `adata.X` will likely not equal the value to which you set it. To avoid this potential issue, please make a copy of the data first. In the future, this operation will throw an error.\n",
      "  warnings.warn(msg, FutureWarning, stacklevel=1)\n",
      "/tmp/ipykernel_8439/1237660453.py:6: ImplicitModificationWarning: Modifying `X` on a view results in data being overridden\n",
      "  samp_cell_subset.X = samp_cell_subset.layers['counts'] # Selecting the raw data\n",
      "/home/glennrossdolan/miniconda3/envs/differential-gene-expression/lib/python3.11/site-packages/anndata/_core/storage.py:39: ImplicitModificationWarning: X should not be a np.matrix, use np.ndarray instead.\n",
      "  warnings.warn(msg, ImplicitModificationWarning)\n",
      "/home/glennrossdolan/miniconda3/envs/differential-gene-expression/lib/python3.11/site-packages/anndata/_core/anndata.py:602: FutureWarning: You are attempting to set `X` to a matrix on a view which has non-unique indices. The resulting `adata.X` will likely not equal the value to which you set it. To avoid this potential issue, please make a copy of the data first. In the future, this operation will throw an error.\n",
      "  warnings.warn(msg, FutureWarning, stacklevel=1)\n",
      "/tmp/ipykernel_8439/1237660453.py:6: ImplicitModificationWarning: Modifying `X` on a view results in data being overridden\n",
      "  samp_cell_subset.X = samp_cell_subset.layers['counts'] # Selecting the raw data\n",
      "/home/glennrossdolan/miniconda3/envs/differential-gene-expression/lib/python3.11/site-packages/anndata/_core/storage.py:39: ImplicitModificationWarning: X should not be a np.matrix, use np.ndarray instead.\n",
      "  warnings.warn(msg, ImplicitModificationWarning)\n",
      "/home/glennrossdolan/miniconda3/envs/differential-gene-expression/lib/python3.11/site-packages/anndata/_core/anndata.py:602: FutureWarning: You are attempting to set `X` to a matrix on a view which has non-unique indices. The resulting `adata.X` will likely not equal the value to which you set it. To avoid this potential issue, please make a copy of the data first. In the future, this operation will throw an error.\n",
      "  warnings.warn(msg, FutureWarning, stacklevel=1)\n",
      "/tmp/ipykernel_8439/1237660453.py:6: ImplicitModificationWarning: Modifying `X` on a view results in data being overridden\n",
      "  samp_cell_subset.X = samp_cell_subset.layers['counts'] # Selecting the raw data\n",
      "/home/glennrossdolan/miniconda3/envs/differential-gene-expression/lib/python3.11/site-packages/anndata/_core/storage.py:39: ImplicitModificationWarning: X should not be a np.matrix, use np.ndarray instead.\n",
      "  warnings.warn(msg, ImplicitModificationWarning)\n",
      "/home/glennrossdolan/miniconda3/envs/differential-gene-expression/lib/python3.11/site-packages/anndata/_core/anndata.py:602: FutureWarning: You are attempting to set `X` to a matrix on a view which has non-unique indices. The resulting `adata.X` will likely not equal the value to which you set it. To avoid this potential issue, please make a copy of the data first. In the future, this operation will throw an error.\n",
      "  warnings.warn(msg, FutureWarning, stacklevel=1)\n",
      "/tmp/ipykernel_8439/1237660453.py:6: ImplicitModificationWarning: Modifying `X` on a view results in data being overridden\n",
      "  samp_cell_subset.X = samp_cell_subset.layers['counts'] # Selecting the raw data\n",
      "/home/glennrossdolan/miniconda3/envs/differential-gene-expression/lib/python3.11/site-packages/anndata/_core/storage.py:39: ImplicitModificationWarning: X should not be a np.matrix, use np.ndarray instead.\n",
      "  warnings.warn(msg, ImplicitModificationWarning)\n",
      "/home/glennrossdolan/miniconda3/envs/differential-gene-expression/lib/python3.11/site-packages/anndata/_core/anndata.py:602: FutureWarning: You are attempting to set `X` to a matrix on a view which has non-unique indices. The resulting `adata.X` will likely not equal the value to which you set it. To avoid this potential issue, please make a copy of the data first. In the future, this operation will throw an error.\n",
      "  warnings.warn(msg, FutureWarning, stacklevel=1)\n",
      "/tmp/ipykernel_8439/1237660453.py:6: ImplicitModificationWarning: Modifying `X` on a view results in data being overridden\n",
      "  samp_cell_subset.X = samp_cell_subset.layers['counts'] # Selecting the raw data\n",
      "/home/glennrossdolan/miniconda3/envs/differential-gene-expression/lib/python3.11/site-packages/anndata/_core/storage.py:39: ImplicitModificationWarning: X should not be a np.matrix, use np.ndarray instead.\n",
      "  warnings.warn(msg, ImplicitModificationWarning)\n"
     ]
    }
   ],
   "source": [
    "# Create pseudobulks for each sample\n",
    "pbs = []\n",
    "for sample in cell_subset.obs['Sample name'].unique():\n",
    "    samp_cell_subset = cell_subset[cell_subset.obs['Sample name'] == sample]\n",
    "\n",
    "    rep_adata = sc.AnnData(X = samp_cell_subset.X.sum(axis = 0),\n",
    "                           var = samp_cell_subset.var[[]])\n",
    "    \n",
    "    rep_adata.obs_names = [sample]\n",
    "\n",
    "    rep_adata.obs['inferred_state'] = samp_cell_subset.obs['inferred_state'].iloc[0]\n",
    "\n",
    "    pbs.append(rep_adata)"
   ]
  },
  {
   "cell_type": "code",
   "execution_count": 81,
   "id": "c176a0ef",
   "metadata": {},
   "outputs": [],
   "source": [
    "pb = sc.concat(pbs)"
   ]
  },
  {
   "cell_type": "markdown",
   "id": "58cd73f7",
   "metadata": {},
   "source": [
    "# Differential Gene Expression"
   ]
  },
  {
   "cell_type": "code",
   "execution_count": 82,
   "id": "94b2230b",
   "metadata": {},
   "outputs": [],
   "source": [
    "from pydeseq2.dds import DeseqDataSet\n",
    "from pydeseq2.ds import DeseqStats"
   ]
  },
  {
   "cell_type": "code",
   "execution_count": 83,
   "id": "4b4ab381",
   "metadata": {},
   "outputs": [],
   "source": [
    "counts = pd.DataFrame(pb.X, columns = pb.var_names) #need to do this to pass var names"
   ]
  },
  {
   "cell_type": "code",
   "execution_count": 84,
   "id": "177914db",
   "metadata": {},
   "outputs": [
    {
     "data": {
      "text/html": [
       "<div>\n",
       "<style scoped>\n",
       "    .dataframe tbody tr th:only-of-type {\n",
       "        vertical-align: middle;\n",
       "    }\n",
       "\n",
       "    .dataframe tbody tr th {\n",
       "        vertical-align: top;\n",
       "    }\n",
       "\n",
       "    .dataframe thead th {\n",
       "        text-align: right;\n",
       "    }\n",
       "</style>\n",
       "<table border=\"1\" class=\"dataframe\">\n",
       "  <thead>\n",
       "    <tr style=\"text-align: right;\">\n",
       "      <th>index</th>\n",
       "      <th>RP11-34P13.3</th>\n",
       "      <th>FAM138A</th>\n",
       "      <th>OR4F5</th>\n",
       "      <th>RP11-34P13.7</th>\n",
       "      <th>RP11-34P13.8</th>\n",
       "      <th>RP11-34P13.14</th>\n",
       "      <th>RP11-34P13.9</th>\n",
       "      <th>FO538757.3</th>\n",
       "      <th>FO538757.2</th>\n",
       "      <th>AP006222.2</th>\n",
       "      <th>...</th>\n",
       "      <th>AC007325.2</th>\n",
       "      <th>BX072566.1</th>\n",
       "      <th>AL354822.1</th>\n",
       "      <th>AC023491.2</th>\n",
       "      <th>AC004556.1</th>\n",
       "      <th>AC233755.2</th>\n",
       "      <th>AC233755.1</th>\n",
       "      <th>AC240274.1</th>\n",
       "      <th>AC213203.1</th>\n",
       "      <th>FAM231B</th>\n",
       "    </tr>\n",
       "  </thead>\n",
       "  <tbody>\n",
       "    <tr>\n",
       "      <th>0</th>\n",
       "      <td>0.0</td>\n",
       "      <td>0.0</td>\n",
       "      <td>0.0</td>\n",
       "      <td>0.0</td>\n",
       "      <td>0.0</td>\n",
       "      <td>0.0</td>\n",
       "      <td>0.0</td>\n",
       "      <td>0.0</td>\n",
       "      <td>6.0</td>\n",
       "      <td>6.0</td>\n",
       "      <td>...</td>\n",
       "      <td>0.0</td>\n",
       "      <td>0.0</td>\n",
       "      <td>0.0</td>\n",
       "      <td>0.0</td>\n",
       "      <td>1.0</td>\n",
       "      <td>0.0</td>\n",
       "      <td>0.0</td>\n",
       "      <td>1.0</td>\n",
       "      <td>0.0</td>\n",
       "      <td>0.0</td>\n",
       "    </tr>\n",
       "    <tr>\n",
       "      <th>1</th>\n",
       "      <td>0.0</td>\n",
       "      <td>0.0</td>\n",
       "      <td>0.0</td>\n",
       "      <td>0.0</td>\n",
       "      <td>0.0</td>\n",
       "      <td>0.0</td>\n",
       "      <td>0.0</td>\n",
       "      <td>0.0</td>\n",
       "      <td>52.0</td>\n",
       "      <td>32.0</td>\n",
       "      <td>...</td>\n",
       "      <td>0.0</td>\n",
       "      <td>0.0</td>\n",
       "      <td>4.0</td>\n",
       "      <td>0.0</td>\n",
       "      <td>2.0</td>\n",
       "      <td>3.0</td>\n",
       "      <td>1.0</td>\n",
       "      <td>3.0</td>\n",
       "      <td>0.0</td>\n",
       "      <td>0.0</td>\n",
       "    </tr>\n",
       "    <tr>\n",
       "      <th>2</th>\n",
       "      <td>0.0</td>\n",
       "      <td>0.0</td>\n",
       "      <td>0.0</td>\n",
       "      <td>1.0</td>\n",
       "      <td>0.0</td>\n",
       "      <td>0.0</td>\n",
       "      <td>0.0</td>\n",
       "      <td>0.0</td>\n",
       "      <td>29.0</td>\n",
       "      <td>20.0</td>\n",
       "      <td>...</td>\n",
       "      <td>0.0</td>\n",
       "      <td>0.0</td>\n",
       "      <td>0.0</td>\n",
       "      <td>0.0</td>\n",
       "      <td>2.0</td>\n",
       "      <td>0.0</td>\n",
       "      <td>0.0</td>\n",
       "      <td>4.0</td>\n",
       "      <td>0.0</td>\n",
       "      <td>0.0</td>\n",
       "    </tr>\n",
       "    <tr>\n",
       "      <th>3</th>\n",
       "      <td>0.0</td>\n",
       "      <td>0.0</td>\n",
       "      <td>0.0</td>\n",
       "      <td>1.0</td>\n",
       "      <td>0.0</td>\n",
       "      <td>0.0</td>\n",
       "      <td>0.0</td>\n",
       "      <td>0.0</td>\n",
       "      <td>4.0</td>\n",
       "      <td>1.0</td>\n",
       "      <td>...</td>\n",
       "      <td>0.0</td>\n",
       "      <td>0.0</td>\n",
       "      <td>0.0</td>\n",
       "      <td>0.0</td>\n",
       "      <td>0.0</td>\n",
       "      <td>0.0</td>\n",
       "      <td>0.0</td>\n",
       "      <td>0.0</td>\n",
       "      <td>0.0</td>\n",
       "      <td>0.0</td>\n",
       "    </tr>\n",
       "    <tr>\n",
       "      <th>4</th>\n",
       "      <td>0.0</td>\n",
       "      <td>0.0</td>\n",
       "      <td>0.0</td>\n",
       "      <td>0.0</td>\n",
       "      <td>0.0</td>\n",
       "      <td>0.0</td>\n",
       "      <td>0.0</td>\n",
       "      <td>0.0</td>\n",
       "      <td>5.0</td>\n",
       "      <td>3.0</td>\n",
       "      <td>...</td>\n",
       "      <td>0.0</td>\n",
       "      <td>0.0</td>\n",
       "      <td>0.0</td>\n",
       "      <td>0.0</td>\n",
       "      <td>0.0</td>\n",
       "      <td>0.0</td>\n",
       "      <td>0.0</td>\n",
       "      <td>0.0</td>\n",
       "      <td>0.0</td>\n",
       "      <td>0.0</td>\n",
       "    </tr>\n",
       "    <tr>\n",
       "      <th>5</th>\n",
       "      <td>0.0</td>\n",
       "      <td>0.0</td>\n",
       "      <td>0.0</td>\n",
       "      <td>1.0</td>\n",
       "      <td>0.0</td>\n",
       "      <td>0.0</td>\n",
       "      <td>0.0</td>\n",
       "      <td>0.0</td>\n",
       "      <td>9.0</td>\n",
       "      <td>3.0</td>\n",
       "      <td>...</td>\n",
       "      <td>0.0</td>\n",
       "      <td>0.0</td>\n",
       "      <td>1.0</td>\n",
       "      <td>0.0</td>\n",
       "      <td>0.0</td>\n",
       "      <td>0.0</td>\n",
       "      <td>0.0</td>\n",
       "      <td>0.0</td>\n",
       "      <td>0.0</td>\n",
       "      <td>0.0</td>\n",
       "    </tr>\n",
       "    <tr>\n",
       "      <th>6</th>\n",
       "      <td>0.0</td>\n",
       "      <td>0.0</td>\n",
       "      <td>0.0</td>\n",
       "      <td>0.0</td>\n",
       "      <td>0.0</td>\n",
       "      <td>0.0</td>\n",
       "      <td>0.0</td>\n",
       "      <td>0.0</td>\n",
       "      <td>3.0</td>\n",
       "      <td>3.0</td>\n",
       "      <td>...</td>\n",
       "      <td>0.0</td>\n",
       "      <td>0.0</td>\n",
       "      <td>0.0</td>\n",
       "      <td>0.0</td>\n",
       "      <td>1.0</td>\n",
       "      <td>0.0</td>\n",
       "      <td>0.0</td>\n",
       "      <td>0.0</td>\n",
       "      <td>0.0</td>\n",
       "      <td>0.0</td>\n",
       "    </tr>\n",
       "    <tr>\n",
       "      <th>7</th>\n",
       "      <td>0.0</td>\n",
       "      <td>0.0</td>\n",
       "      <td>0.0</td>\n",
       "      <td>0.0</td>\n",
       "      <td>0.0</td>\n",
       "      <td>0.0</td>\n",
       "      <td>0.0</td>\n",
       "      <td>0.0</td>\n",
       "      <td>6.0</td>\n",
       "      <td>4.0</td>\n",
       "      <td>...</td>\n",
       "      <td>0.0</td>\n",
       "      <td>0.0</td>\n",
       "      <td>1.0</td>\n",
       "      <td>0.0</td>\n",
       "      <td>0.0</td>\n",
       "      <td>0.0</td>\n",
       "      <td>0.0</td>\n",
       "      <td>0.0</td>\n",
       "      <td>0.0</td>\n",
       "      <td>0.0</td>\n",
       "    </tr>\n",
       "    <tr>\n",
       "      <th>8</th>\n",
       "      <td>0.0</td>\n",
       "      <td>0.0</td>\n",
       "      <td>0.0</td>\n",
       "      <td>0.0</td>\n",
       "      <td>0.0</td>\n",
       "      <td>0.0</td>\n",
       "      <td>0.0</td>\n",
       "      <td>0.0</td>\n",
       "      <td>1.0</td>\n",
       "      <td>0.0</td>\n",
       "      <td>...</td>\n",
       "      <td>0.0</td>\n",
       "      <td>0.0</td>\n",
       "      <td>0.0</td>\n",
       "      <td>0.0</td>\n",
       "      <td>0.0</td>\n",
       "      <td>0.0</td>\n",
       "      <td>0.0</td>\n",
       "      <td>0.0</td>\n",
       "      <td>0.0</td>\n",
       "      <td>0.0</td>\n",
       "    </tr>\n",
       "    <tr>\n",
       "      <th>9</th>\n",
       "      <td>0.0</td>\n",
       "      <td>0.0</td>\n",
       "      <td>0.0</td>\n",
       "      <td>0.0</td>\n",
       "      <td>0.0</td>\n",
       "      <td>0.0</td>\n",
       "      <td>0.0</td>\n",
       "      <td>0.0</td>\n",
       "      <td>0.0</td>\n",
       "      <td>2.0</td>\n",
       "      <td>...</td>\n",
       "      <td>0.0</td>\n",
       "      <td>0.0</td>\n",
       "      <td>0.0</td>\n",
       "      <td>0.0</td>\n",
       "      <td>0.0</td>\n",
       "      <td>0.0</td>\n",
       "      <td>0.0</td>\n",
       "      <td>0.0</td>\n",
       "      <td>0.0</td>\n",
       "      <td>0.0</td>\n",
       "    </tr>\n",
       "    <tr>\n",
       "      <th>10</th>\n",
       "      <td>0.0</td>\n",
       "      <td>0.0</td>\n",
       "      <td>0.0</td>\n",
       "      <td>0.0</td>\n",
       "      <td>0.0</td>\n",
       "      <td>0.0</td>\n",
       "      <td>0.0</td>\n",
       "      <td>0.0</td>\n",
       "      <td>2.0</td>\n",
       "      <td>0.0</td>\n",
       "      <td>...</td>\n",
       "      <td>0.0</td>\n",
       "      <td>0.0</td>\n",
       "      <td>0.0</td>\n",
       "      <td>0.0</td>\n",
       "      <td>0.0</td>\n",
       "      <td>0.0</td>\n",
       "      <td>0.0</td>\n",
       "      <td>0.0</td>\n",
       "      <td>0.0</td>\n",
       "      <td>0.0</td>\n",
       "    </tr>\n",
       "  </tbody>\n",
       "</table>\n",
       "<p>11 rows × 33694 columns</p>\n",
       "</div>"
      ],
      "text/plain": [
       "index  RP11-34P13.3  FAM138A  OR4F5  RP11-34P13.7  RP11-34P13.8  \\\n",
       "0               0.0      0.0    0.0           0.0           0.0   \n",
       "1               0.0      0.0    0.0           0.0           0.0   \n",
       "2               0.0      0.0    0.0           1.0           0.0   \n",
       "3               0.0      0.0    0.0           1.0           0.0   \n",
       "4               0.0      0.0    0.0           0.0           0.0   \n",
       "5               0.0      0.0    0.0           1.0           0.0   \n",
       "6               0.0      0.0    0.0           0.0           0.0   \n",
       "7               0.0      0.0    0.0           0.0           0.0   \n",
       "8               0.0      0.0    0.0           0.0           0.0   \n",
       "9               0.0      0.0    0.0           0.0           0.0   \n",
       "10              0.0      0.0    0.0           0.0           0.0   \n",
       "\n",
       "index  RP11-34P13.14  RP11-34P13.9  FO538757.3  FO538757.2  AP006222.2  ...  \\\n",
       "0                0.0           0.0         0.0         6.0         6.0  ...   \n",
       "1                0.0           0.0         0.0        52.0        32.0  ...   \n",
       "2                0.0           0.0         0.0        29.0        20.0  ...   \n",
       "3                0.0           0.0         0.0         4.0         1.0  ...   \n",
       "4                0.0           0.0         0.0         5.0         3.0  ...   \n",
       "5                0.0           0.0         0.0         9.0         3.0  ...   \n",
       "6                0.0           0.0         0.0         3.0         3.0  ...   \n",
       "7                0.0           0.0         0.0         6.0         4.0  ...   \n",
       "8                0.0           0.0         0.0         1.0         0.0  ...   \n",
       "9                0.0           0.0         0.0         0.0         2.0  ...   \n",
       "10               0.0           0.0         0.0         2.0         0.0  ...   \n",
       "\n",
       "index  AC007325.2  BX072566.1  AL354822.1  AC023491.2  AC004556.1  AC233755.2  \\\n",
       "0             0.0         0.0         0.0         0.0         1.0         0.0   \n",
       "1             0.0         0.0         4.0         0.0         2.0         3.0   \n",
       "2             0.0         0.0         0.0         0.0         2.0         0.0   \n",
       "3             0.0         0.0         0.0         0.0         0.0         0.0   \n",
       "4             0.0         0.0         0.0         0.0         0.0         0.0   \n",
       "5             0.0         0.0         1.0         0.0         0.0         0.0   \n",
       "6             0.0         0.0         0.0         0.0         1.0         0.0   \n",
       "7             0.0         0.0         1.0         0.0         0.0         0.0   \n",
       "8             0.0         0.0         0.0         0.0         0.0         0.0   \n",
       "9             0.0         0.0         0.0         0.0         0.0         0.0   \n",
       "10            0.0         0.0         0.0         0.0         0.0         0.0   \n",
       "\n",
       "index  AC233755.1  AC240274.1  AC213203.1  FAM231B  \n",
       "0             0.0         1.0         0.0      0.0  \n",
       "1             1.0         3.0         0.0      0.0  \n",
       "2             0.0         4.0         0.0      0.0  \n",
       "3             0.0         0.0         0.0      0.0  \n",
       "4             0.0         0.0         0.0      0.0  \n",
       "5             0.0         0.0         0.0      0.0  \n",
       "6             0.0         0.0         0.0      0.0  \n",
       "7             0.0         0.0         0.0      0.0  \n",
       "8             0.0         0.0         0.0      0.0  \n",
       "9             0.0         0.0         0.0      0.0  \n",
       "10            0.0         0.0         0.0      0.0  \n",
       "\n",
       "[11 rows x 33694 columns]"
      ]
     },
     "execution_count": 84,
     "metadata": {},
     "output_type": "execute_result"
    }
   ],
   "source": [
    "counts"
   ]
  },
  {
   "cell_type": "code",
   "execution_count": 85,
   "id": "26845dd7",
   "metadata": {},
   "outputs": [
    {
     "name": "stderr",
     "output_type": "stream",
     "text": [
      "/tmp/ipykernel_5339/34952537.py:1: DeprecationWarning: design_factors is deprecated and will soon be removed.Please consider providing a formulaic formula using the design argumentinstead.\n",
      "  dds = DeseqDataSet(\n"
     ]
    }
   ],
   "source": [
    "dds = DeseqDataSet(\n",
    "    counts = counts,\n",
    "    metadata = pb.obs,\n",
    "    design_factors = \"inferred_state\")"
   ]
  },
  {
   "cell_type": "code",
   "execution_count": 86,
   "id": "65c033de",
   "metadata": {},
   "outputs": [
    {
     "name": "stderr",
     "output_type": "stream",
     "text": [
      "Fitting size factors...\n",
      "... done in 0.01 seconds.\n",
      "\n"
     ]
    },
    {
     "name": "stdout",
     "output_type": "stream",
     "text": [
      "Using None as control genes, passed at DeseqDataSet initialization\n"
     ]
    },
    {
     "name": "stderr",
     "output_type": "stream",
     "text": [
      "Fitting dispersions...\n",
      "... done in 1.83 seconds.\n",
      "\n",
      "Fitting dispersion trend curve...\n",
      "/home/glennrossdolan/miniconda3/envs/differential-gene-expression/lib/python3.11/site-packages/pydeseq2/dds.py:804: UserWarning: The dispersion trend curve fitting did not converge. Switching to a mean-based dispersion trend.\n",
      "  self._fit_parametric_dispersion_trend(vst)\n",
      "... done in 0.28 seconds.\n",
      "\n",
      "Fitting MAP dispersions...\n",
      "... done in 3.46 seconds.\n",
      "\n",
      "Fitting LFCs...\n",
      "... done in 3.34 seconds.\n",
      "\n",
      "Calculating cook's distance...\n",
      "... done in 0.01 seconds.\n",
      "\n",
      "Replacing 0 outlier genes.\n",
      "\n"
     ]
    }
   ],
   "source": [
    "dds.deseq2()"
   ]
  },
  {
   "cell_type": "code",
   "execution_count": 87,
   "id": "4e6ee893",
   "metadata": {},
   "outputs": [
    {
     "data": {
      "image/png": "[encoded data removed]",
      "text/plain": [
       "<Figure size 640x480 with 1 Axes>"
      ]
     },
     "metadata": {},
     "output_type": "display_data"
    }
   ],
   "source": [
    "sc.tl.pca(dds)\n",
    "sc.pl.pca(dds, color = 'inferred_state', size = 200)"
   ]
  },
  {
   "cell_type": "code",
   "execution_count": 88,
   "id": "5955446f",
   "metadata": {},
   "outputs": [
    {
     "name": "stderr",
     "output_type": "stream",
     "text": [
      "Running Wald tests...\n"
     ]
    },
    {
     "name": "stdout",
     "output_type": "stream",
     "text": [
      "Log2 fold change & Wald test p-value: inferred_state CD vs Control\n",
      "              baseMean  log2FoldChange     lfcSE      stat    pvalue      padj\n",
      "index                                                                         \n",
      "RP11-34P13.3  0.000000             NaN       NaN       NaN       NaN       NaN\n",
      "FAM138A       0.000000             NaN       NaN       NaN       NaN       NaN\n",
      "OR4F5         0.000000             NaN       NaN       NaN       NaN       NaN\n",
      "RP11-34P13.7  0.166807       -0.967030  2.329989 -0.415036  0.678115  0.999921\n",
      "RP11-34P13.8  0.000000             NaN       NaN       NaN       NaN       NaN\n",
      "...                ...             ...       ...       ...       ...       ...\n",
      "AC233755.2    0.024925        1.210581  3.851950  0.314277  0.753310  0.999921\n",
      "AC233755.1    0.008308        0.904417  3.891459  0.232411  0.816219  0.999921\n",
      "AC240274.1    0.133152        0.935658  2.373944  0.394136  0.693480  0.999921\n",
      "AC213203.1    0.000000             NaN       NaN       NaN       NaN       NaN\n",
      "FAM231B       0.000000             NaN       NaN       NaN       NaN       NaN\n",
      "\n",
      "[33694 rows x 6 columns]\n"
     ]
    },
    {
     "name": "stderr",
     "output_type": "stream",
     "text": [
      "... done in 1.74 seconds.\n",
      "\n"
     ]
    }
   ],
   "source": [
    "stat_res = DeseqStats(dds, contrast=('inferred_state', 'CD', 'Control'))\n",
    "    \n",
    "stat_res.summary()"
   ]
  },
  {
   "cell_type": "markdown",
   "id": "00a9dec6",
   "metadata": {},
   "source": [
    "# Sort the DGE results"
   ]
  },
  {
   "cell_type": "code",
   "execution_count": 89,
   "id": "c5f15773",
   "metadata": {},
   "outputs": [],
   "source": [
    "de  = stat_res.results_df"
   ]
  },
  {
   "cell_type": "code",
   "execution_count": 90,
   "id": "8de49b5d",
   "metadata": {},
   "outputs": [
    {
     "data": {
      "text/html": [
       "<div>\n",
       "<style scoped>\n",
       "    .dataframe tbody tr th:only-of-type {\n",
       "        vertical-align: middle;\n",
       "    }\n",
       "\n",
       "    .dataframe tbody tr th {\n",
       "        vertical-align: top;\n",
       "    }\n",
       "\n",
       "    .dataframe thead th {\n",
       "        text-align: right;\n",
       "    }\n",
       "</style>\n",
       "<table border=\"1\" class=\"dataframe\">\n",
       "  <thead>\n",
       "    <tr style=\"text-align: right;\">\n",
       "      <th></th>\n",
       "      <th>baseMean</th>\n",
       "      <th>log2FoldChange</th>\n",
       "      <th>lfcSE</th>\n",
       "      <th>stat</th>\n",
       "      <th>pvalue</th>\n",
       "      <th>padj</th>\n",
       "    </tr>\n",
       "    <tr>\n",
       "      <th>index</th>\n",
       "      <th></th>\n",
       "      <th></th>\n",
       "      <th></th>\n",
       "      <th></th>\n",
       "      <th></th>\n",
       "      <th></th>\n",
       "    </tr>\n",
       "  </thead>\n",
       "  <tbody>\n",
       "    <tr>\n",
       "      <th>JCHAIN</th>\n",
       "      <td>93.494592</td>\n",
       "      <td>2.648249</td>\n",
       "      <td>0.532331</td>\n",
       "      <td>4.974817</td>\n",
       "      <td>6.530918e-07</td>\n",
       "      <td>0.011073</td>\n",
       "    </tr>\n",
       "    <tr>\n",
       "      <th>STAT1</th>\n",
       "      <td>16.031311</td>\n",
       "      <td>2.577078</td>\n",
       "      <td>0.558714</td>\n",
       "      <td>4.612520</td>\n",
       "      <td>3.978161e-06</td>\n",
       "      <td>0.022493</td>\n",
       "    </tr>\n",
       "    <tr>\n",
       "      <th>IGHA1</th>\n",
       "      <td>121.596634</td>\n",
       "      <td>3.142403</td>\n",
       "      <td>0.681290</td>\n",
       "      <td>4.612430</td>\n",
       "      <td>3.979887e-06</td>\n",
       "      <td>0.022493</td>\n",
       "    </tr>\n",
       "    <tr>\n",
       "      <th>MTRNR2L8</th>\n",
       "      <td>15.880953</td>\n",
       "      <td>4.058490</td>\n",
       "      <td>0.993090</td>\n",
       "      <td>4.086729</td>\n",
       "      <td>4.374985e-05</td>\n",
       "      <td>0.185445</td>\n",
       "    </tr>\n",
       "    <tr>\n",
       "      <th>GBP2</th>\n",
       "      <td>6.305237</td>\n",
       "      <td>2.818023</td>\n",
       "      <td>0.719767</td>\n",
       "      <td>3.915188</td>\n",
       "      <td>9.033397e-05</td>\n",
       "      <td>0.306322</td>\n",
       "    </tr>\n",
       "    <tr>\n",
       "      <th>...</th>\n",
       "      <td>...</td>\n",
       "      <td>...</td>\n",
       "      <td>...</td>\n",
       "      <td>...</td>\n",
       "      <td>...</td>\n",
       "      <td>...</td>\n",
       "    </tr>\n",
       "    <tr>\n",
       "      <th>AC007325.2</th>\n",
       "      <td>0.000000</td>\n",
       "      <td>NaN</td>\n",
       "      <td>NaN</td>\n",
       "      <td>NaN</td>\n",
       "      <td>NaN</td>\n",
       "      <td>NaN</td>\n",
       "    </tr>\n",
       "    <tr>\n",
       "      <th>BX072566.1</th>\n",
       "      <td>0.000000</td>\n",
       "      <td>NaN</td>\n",
       "      <td>NaN</td>\n",
       "      <td>NaN</td>\n",
       "      <td>NaN</td>\n",
       "      <td>NaN</td>\n",
       "    </tr>\n",
       "    <tr>\n",
       "      <th>AC023491.2</th>\n",
       "      <td>0.000000</td>\n",
       "      <td>NaN</td>\n",
       "      <td>NaN</td>\n",
       "      <td>NaN</td>\n",
       "      <td>NaN</td>\n",
       "      <td>NaN</td>\n",
       "    </tr>\n",
       "    <tr>\n",
       "      <th>AC213203.1</th>\n",
       "      <td>0.000000</td>\n",
       "      <td>NaN</td>\n",
       "      <td>NaN</td>\n",
       "      <td>NaN</td>\n",
       "      <td>NaN</td>\n",
       "      <td>NaN</td>\n",
       "    </tr>\n",
       "    <tr>\n",
       "      <th>FAM231B</th>\n",
       "      <td>0.000000</td>\n",
       "      <td>NaN</td>\n",
       "      <td>NaN</td>\n",
       "      <td>NaN</td>\n",
       "      <td>NaN</td>\n",
       "      <td>NaN</td>\n",
       "    </tr>\n",
       "  </tbody>\n",
       "</table>\n",
       "<p>33694 rows × 6 columns</p>\n",
       "</div>"
      ],
      "text/plain": [
       "              baseMean  log2FoldChange     lfcSE      stat        pvalue  \\\n",
       "index                                                                      \n",
       "JCHAIN       93.494592        2.648249  0.532331  4.974817  6.530918e-07   \n",
       "STAT1        16.031311        2.577078  0.558714  4.612520  3.978161e-06   \n",
       "IGHA1       121.596634        3.142403  0.681290  4.612430  3.979887e-06   \n",
       "MTRNR2L8     15.880953        4.058490  0.993090  4.086729  4.374985e-05   \n",
       "GBP2          6.305237        2.818023  0.719767  3.915188  9.033397e-05   \n",
       "...                ...             ...       ...       ...           ...   \n",
       "AC007325.2    0.000000             NaN       NaN       NaN           NaN   \n",
       "BX072566.1    0.000000             NaN       NaN       NaN           NaN   \n",
       "AC023491.2    0.000000             NaN       NaN       NaN           NaN   \n",
       "AC213203.1    0.000000             NaN       NaN       NaN           NaN   \n",
       "FAM231B       0.000000             NaN       NaN       NaN           NaN   \n",
       "\n",
       "                padj  \n",
       "index                 \n",
       "JCHAIN      0.011073  \n",
       "STAT1       0.022493  \n",
       "IGHA1       0.022493  \n",
       "MTRNR2L8    0.185445  \n",
       "GBP2        0.306322  \n",
       "...              ...  \n",
       "AC007325.2       NaN  \n",
       "BX072566.1       NaN  \n",
       "AC023491.2       NaN  \n",
       "AC213203.1       NaN  \n",
       "FAM231B          NaN  \n",
       "\n",
       "[33694 rows x 6 columns]"
      ]
     },
     "execution_count": 90,
     "metadata": {},
     "output_type": "execute_result"
    }
   ],
   "source": [
    "de.sort_values('stat', ascending = False)"
   ]
  },
  {
   "cell_type": "code",
   "execution_count": 91,
   "id": "3f95f88b",
   "metadata": {},
   "outputs": [
    {
     "name": "stdout",
     "output_type": "stream",
     "text": [
      "          baseMean  log2FoldChange     lfcSE      stat        pvalue      padj\n",
      "index                                                                         \n",
      "JCHAIN   93.494592        2.648249  0.532331  4.974817  6.530918e-07  0.011073\n",
      "STAT1    16.031311        2.577078  0.558714  4.612520  3.978161e-06  0.022493\n",
      "IGHA1   121.596634        3.142403  0.681290  4.612430  3.979887e-06  0.022493\n"
     ]
    }
   ],
   "source": [
    "filt_df = de[de['padj'] <= 0.05].sort_values('padj')\n",
    "print(filt_df)"
   ]
  },
  {
   "cell_type": "code",
   "execution_count": null,
   "id": "7646d4bc",
   "metadata": {},
   "outputs": [],
   "source": []
  }
 ],
 "metadata": {
  "kernelspec": {
   "display_name": "differential-gene-expression",
   "language": "python",
   "name": "python3"
  },
  "language_info": {
   "codemirror_mode": {
    "name": "ipython",
    "version": 3
   },
   "file_extension": ".py",
   "mimetype": "text/x-python",
   "name": "python",
   "nbconvert_exporter": "python",
   "pygments_lexer": "ipython3",
   "version": "3.11.0"
  }
 },
 "nbformat": 4,
 "nbformat_minor": 5
}
